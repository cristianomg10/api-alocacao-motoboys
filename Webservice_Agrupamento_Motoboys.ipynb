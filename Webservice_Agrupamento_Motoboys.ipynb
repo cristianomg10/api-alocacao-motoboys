{
  "nbformat": 4,
  "nbformat_minor": 0,
  "metadata": {
    "colab": {
      "name": "Webservice - Agrupamento Motoboys",
      "provenance": [],
      "collapsed_sections": []
    },
    "kernelspec": {
      "name": "python3",
      "display_name": "Python 3"
    }
  },
  "cells": [
    {
      "cell_type": "code",
      "metadata": {
        "id": "MdjZOPYavwCT",
        "colab_type": "code",
        "colab": {}
      },
      "source": [
        "import pandas as pd"
      ],
      "execution_count": null,
      "outputs": []
    },
    {
      "cell_type": "code",
      "metadata": {
        "id": "y1AHCe7MbPDn",
        "colab_type": "code",
        "colab": {
          "base_uri": "https://localhost:8080/",
          "height": 297
        },
        "outputId": "03e56685-a4e8-4546-d0c7-8a3bf659ead4"
      },
      "source": [
        "dados = '[{\"cep\":\"89504790\",\"rua\": \"manoel pedro driessen\", \"bairro\":\"municipios\"},{\"cep\":\"89504690\",\"rua\": \"fahdo tome\", \"bairro\":\"champagnat\"},{\"cep\":\"89504548\",\"rua\": \"argentina\", \"bairro\":\"reunidas\"},{\"cep\":\"89504539\",\"rua\": \"peru\", \"bairro\":\"reunidas\"},{\"cep\":\"89504711\",\"rua\": \"sao bento do sul\", \"bairro\":\"municipios\"},{\"cep\":\"89504536\",\"rua\": \"venezuela\", \"bairro\":\"reunidas\"},{\"cep\":\"89503366\",\"rua\": \"holanda\", \"bairro\":\"sorgatto\"}]'\n",
        "\n",
        "d = json.loads(dados)\n",
        "pd.DataFrame(d)"
      ],
      "execution_count": null,
      "outputs": [
        {
          "output_type": "execute_result",
          "data": {
            "text/html": [
              "<div>\n",
              "<style scoped>\n",
              "    .dataframe tbody tr th:only-of-type {\n",
              "        vertical-align: middle;\n",
              "    }\n",
              "\n",
              "    .dataframe tbody tr th {\n",
              "        vertical-align: top;\n",
              "    }\n",
              "\n",
              "    .dataframe thead th {\n",
              "        text-align: right;\n",
              "    }\n",
              "</style>\n",
              "<table border=\"1\" class=\"dataframe\">\n",
              "  <thead>\n",
              "    <tr style=\"text-align: right;\">\n",
              "      <th></th>\n",
              "      <th>cep</th>\n",
              "      <th>rua</th>\n",
              "      <th>bairro</th>\n",
              "    </tr>\n",
              "  </thead>\n",
              "  <tbody>\n",
              "    <tr>\n",
              "      <th>0</th>\n",
              "      <td>89504790</td>\n",
              "      <td>manoel pedro driessen</td>\n",
              "      <td>municipios</td>\n",
              "    </tr>\n",
              "    <tr>\n",
              "      <th>1</th>\n",
              "      <td>89504790</td>\n",
              "      <td>manoel pedro driessen</td>\n",
              "      <td>municipios</td>\n",
              "    </tr>\n",
              "    <tr>\n",
              "      <th>2</th>\n",
              "      <td>89504690</td>\n",
              "      <td>fahdo tome</td>\n",
              "      <td>champagnat</td>\n",
              "    </tr>\n",
              "    <tr>\n",
              "      <th>3</th>\n",
              "      <td>89504548</td>\n",
              "      <td>argentina</td>\n",
              "      <td>reunidas</td>\n",
              "    </tr>\n",
              "    <tr>\n",
              "      <th>4</th>\n",
              "      <td>89504539</td>\n",
              "      <td>peru</td>\n",
              "      <td>reunidas</td>\n",
              "    </tr>\n",
              "    <tr>\n",
              "      <th>5</th>\n",
              "      <td>89504711</td>\n",
              "      <td>sao bento do sul</td>\n",
              "      <td>municipios</td>\n",
              "    </tr>\n",
              "    <tr>\n",
              "      <th>6</th>\n",
              "      <td>89504536</td>\n",
              "      <td>venezuela</td>\n",
              "      <td>reunidas</td>\n",
              "    </tr>\n",
              "    <tr>\n",
              "      <th>7</th>\n",
              "      <td>89503366</td>\n",
              "      <td>holanda</td>\n",
              "      <td>sorgatto</td>\n",
              "    </tr>\n",
              "  </tbody>\n",
              "</table>\n",
              "</div>"
            ],
            "text/plain": [
              "        cep                    rua      bairro\n",
              "0  89504790  manoel pedro driessen  municipios\n",
              "1  89504790  manoel pedro driessen  municipios\n",
              "2  89504690             fahdo tome  champagnat\n",
              "3  89504548              argentina    reunidas\n",
              "4  89504539                   peru    reunidas\n",
              "5  89504711       sao bento do sul  municipios\n",
              "6  89504536              venezuela    reunidas\n",
              "7  89503366                holanda    sorgatto"
            ]
          },
          "metadata": {
            "tags": []
          },
          "execution_count": 51
        }
      ]
    },
    {
      "cell_type": "code",
      "metadata": {
        "id": "llqVMHPVSjN6",
        "colab_type": "code",
        "colab": {
          "base_uri": "https://localhost:8080/",
          "height": 513
        },
        "outputId": "0427b7fc-d36f-43fe-ae66-df72ce407e48"
      },
      "source": [
        "!pip install flask==0.12.2\n",
        "!pip install flask-ngrok"
      ],
      "execution_count": null,
      "outputs": [
        {
          "output_type": "stream",
          "text": [
            "Collecting flask==0.12.2\n",
            "\u001b[?25l  Downloading https://files.pythonhosted.org/packages/77/32/e3597cb19ffffe724ad4bf0beca4153419918e7fa4ba6a34b04ee4da3371/Flask-0.12.2-py2.py3-none-any.whl (83kB)\n",
            "\r\u001b[K     |████                            | 10kB 18.2MB/s eta 0:00:01\r\u001b[K     |████████                        | 20kB 1.7MB/s eta 0:00:01\r\u001b[K     |███████████▉                    | 30kB 2.2MB/s eta 0:00:01\r\u001b[K     |███████████████▉                | 40kB 2.5MB/s eta 0:00:01\r\u001b[K     |███████████████████▊            | 51kB 2.0MB/s eta 0:00:01\r\u001b[K     |███████████████████████▊        | 61kB 2.2MB/s eta 0:00:01\r\u001b[K     |███████████████████████████▋    | 71kB 2.4MB/s eta 0:00:01\r\u001b[K     |███████████████████████████████▋| 81kB 2.7MB/s eta 0:00:01\r\u001b[K     |████████████████████████████████| 92kB 2.4MB/s \n",
            "\u001b[?25hRequirement already satisfied: Jinja2>=2.4 in /usr/local/lib/python3.6/dist-packages (from flask==0.12.2) (2.11.2)\n",
            "Requirement already satisfied: click>=2.0 in /usr/local/lib/python3.6/dist-packages (from flask==0.12.2) (7.1.2)\n",
            "Requirement already satisfied: Werkzeug>=0.7 in /usr/local/lib/python3.6/dist-packages (from flask==0.12.2) (1.0.1)\n",
            "Requirement already satisfied: itsdangerous>=0.21 in /usr/local/lib/python3.6/dist-packages (from flask==0.12.2) (1.1.0)\n",
            "Requirement already satisfied: MarkupSafe>=0.23 in /usr/local/lib/python3.6/dist-packages (from Jinja2>=2.4->flask==0.12.2) (1.1.1)\n",
            "Installing collected packages: flask\n",
            "  Found existing installation: Flask 1.1.2\n",
            "    Uninstalling Flask-1.1.2:\n",
            "      Successfully uninstalled Flask-1.1.2\n",
            "Successfully installed flask-0.12.2\n",
            "Collecting flask-ngrok\n",
            "  Downloading https://files.pythonhosted.org/packages/af/6c/f54cb686ad1129e27d125d182f90f52b32f284e6c8df58c1bae54fa1adbc/flask_ngrok-0.0.25-py3-none-any.whl\n",
            "Requirement already satisfied: Flask>=0.8 in /usr/local/lib/python3.6/dist-packages (from flask-ngrok) (0.12.2)\n",
            "Requirement already satisfied: requests in /usr/local/lib/python3.6/dist-packages (from flask-ngrok) (2.23.0)\n",
            "Requirement already satisfied: click>=2.0 in /usr/local/lib/python3.6/dist-packages (from Flask>=0.8->flask-ngrok) (7.1.2)\n",
            "Requirement already satisfied: Jinja2>=2.4 in /usr/local/lib/python3.6/dist-packages (from Flask>=0.8->flask-ngrok) (2.11.2)\n",
            "Requirement already satisfied: itsdangerous>=0.21 in /usr/local/lib/python3.6/dist-packages (from Flask>=0.8->flask-ngrok) (1.1.0)\n",
            "Requirement already satisfied: Werkzeug>=0.7 in /usr/local/lib/python3.6/dist-packages (from Flask>=0.8->flask-ngrok) (1.0.1)\n",
            "Requirement already satisfied: idna<3,>=2.5 in /usr/local/lib/python3.6/dist-packages (from requests->flask-ngrok) (2.9)\n",
            "Requirement already satisfied: urllib3!=1.25.0,!=1.25.1,<1.26,>=1.21.1 in /usr/local/lib/python3.6/dist-packages (from requests->flask-ngrok) (1.24.3)\n",
            "Requirement already satisfied: chardet<4,>=3.0.2 in /usr/local/lib/python3.6/dist-packages (from requests->flask-ngrok) (3.0.4)\n",
            "Requirement already satisfied: certifi>=2017.4.17 in /usr/local/lib/python3.6/dist-packages (from requests->flask-ngrok) (2020.4.5.1)\n",
            "Requirement already satisfied: MarkupSafe>=0.23 in /usr/local/lib/python3.6/dist-packages (from Jinja2>=2.4->Flask>=0.8->flask-ngrok) (1.1.1)\n",
            "Installing collected packages: flask-ngrok\n",
            "Successfully installed flask-ngrok-0.0.25\n"
          ],
          "name": "stdout"
        }
      ]
    },
    {
      "cell_type": "code",
      "metadata": {
        "id": "pufz1O7xSr08",
        "colab_type": "code",
        "colab": {
          "base_uri": "https://localhost:8080/",
          "height": 85
        },
        "outputId": "f176924b-fb5b-49ee-ff64-1be0313aaa71"
      },
      "source": [
        "from flask import Flask, request, Response\n",
        "from flask_ngrok import run_with_ngrok\n",
        "import pandas as pd\n",
        "import json\n",
        "\n",
        "app = Flask(__name__)\n",
        "run_with_ngrok(app)  # Start ngrok when app is run\n",
        "\n",
        "@app.route(\"/otimiza/\", defaults={'n_clusters': 2}, methods=['POST'])\n",
        "@app.route(\"/otimiza/<n_clusters>\", methods=['POST'])\n",
        "def otimiza(n_clusters):\n",
        "    data = json.loads(request.data)\n",
        "    df = pd.DataFrame(data)\n",
        "    df_predito = treina(df, n_clusters)\n",
        "\n",
        "    return Response(df_predito.to_json(orient='records'), mimetype='Application/Json')\n",
        "\n",
        "def treina(df, n_clusters=2):\n",
        "    from sklearn.cluster import KMeans\n",
        "\n",
        "    km = KMeans(n_clusters=int(n_clusters))\n",
        "    km.fit(df[[\"cep\"]])\n",
        "\n",
        "    df[\"motoboy\"] = km.predict(df[[\"cep\"]])\n",
        "\n",
        "    return df\n",
        "\n",
        "if __name__ == '__main__':\n",
        "    app.run()"
      ],
      "execution_count": 63,
      "outputs": [
        {
          "output_type": "stream",
          "text": [
            " * Running on http://127.0.0.1:5000/ (Press CTRL+C to quit)\n"
          ],
          "name": "stderr"
        },
        {
          "output_type": "stream",
          "text": [
            " * Running on http://2e432645450b.ngrok.io\n",
            " * Traffic stats available on http://127.0.0.1:4040\n"
          ],
          "name": "stdout"
        },
        {
          "output_type": "stream",
          "text": [
            "127.0.0.1 - - [17/Jun/2020 22:03:55] \"\u001b[37mPOST /otimiza/3 HTTP/1.1\u001b[0m\" 200 -\n"
          ],
          "name": "stderr"
        }
      ]
    }
  ]
}